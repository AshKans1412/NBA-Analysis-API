{
 "cells": [
  {
   "cell_type": "code",
   "execution_count": 45,
   "id": "6e65632a",
   "metadata": {},
   "outputs": [
    {
     "data": {
      "text/html": [
       "<style>#sk-container-id-3 {color: black;}#sk-container-id-3 pre{padding: 0;}#sk-container-id-3 div.sk-toggleable {background-color: white;}#sk-container-id-3 label.sk-toggleable__label {cursor: pointer;display: block;width: 100%;margin-bottom: 0;padding: 0.3em;box-sizing: border-box;text-align: center;}#sk-container-id-3 label.sk-toggleable__label-arrow:before {content: \"▸\";float: left;margin-right: 0.25em;color: #696969;}#sk-container-id-3 label.sk-toggleable__label-arrow:hover:before {color: black;}#sk-container-id-3 div.sk-estimator:hover label.sk-toggleable__label-arrow:before {color: black;}#sk-container-id-3 div.sk-toggleable__content {max-height: 0;max-width: 0;overflow: hidden;text-align: left;background-color: #f0f8ff;}#sk-container-id-3 div.sk-toggleable__content pre {margin: 0.2em;color: black;border-radius: 0.25em;background-color: #f0f8ff;}#sk-container-id-3 input.sk-toggleable__control:checked~div.sk-toggleable__content {max-height: 200px;max-width: 100%;overflow: auto;}#sk-container-id-3 input.sk-toggleable__control:checked~label.sk-toggleable__label-arrow:before {content: \"▾\";}#sk-container-id-3 div.sk-estimator input.sk-toggleable__control:checked~label.sk-toggleable__label {background-color: #d4ebff;}#sk-container-id-3 div.sk-label input.sk-toggleable__control:checked~label.sk-toggleable__label {background-color: #d4ebff;}#sk-container-id-3 input.sk-hidden--visually {border: 0;clip: rect(1px 1px 1px 1px);clip: rect(1px, 1px, 1px, 1px);height: 1px;margin: -1px;overflow: hidden;padding: 0;position: absolute;width: 1px;}#sk-container-id-3 div.sk-estimator {font-family: monospace;background-color: #f0f8ff;border: 1px dotted black;border-radius: 0.25em;box-sizing: border-box;margin-bottom: 0.5em;}#sk-container-id-3 div.sk-estimator:hover {background-color: #d4ebff;}#sk-container-id-3 div.sk-parallel-item::after {content: \"\";width: 100%;border-bottom: 1px solid gray;flex-grow: 1;}#sk-container-id-3 div.sk-label:hover label.sk-toggleable__label {background-color: #d4ebff;}#sk-container-id-3 div.sk-serial::before {content: \"\";position: absolute;border-left: 1px solid gray;box-sizing: border-box;top: 0;bottom: 0;left: 50%;z-index: 0;}#sk-container-id-3 div.sk-serial {display: flex;flex-direction: column;align-items: center;background-color: white;padding-right: 0.2em;padding-left: 0.2em;position: relative;}#sk-container-id-3 div.sk-item {position: relative;z-index: 1;}#sk-container-id-3 div.sk-parallel {display: flex;align-items: stretch;justify-content: center;background-color: white;position: relative;}#sk-container-id-3 div.sk-item::before, #sk-container-id-3 div.sk-parallel-item::before {content: \"\";position: absolute;border-left: 1px solid gray;box-sizing: border-box;top: 0;bottom: 0;left: 50%;z-index: -1;}#sk-container-id-3 div.sk-parallel-item {display: flex;flex-direction: column;z-index: 1;position: relative;background-color: white;}#sk-container-id-3 div.sk-parallel-item:first-child::after {align-self: flex-end;width: 50%;}#sk-container-id-3 div.sk-parallel-item:last-child::after {align-self: flex-start;width: 50%;}#sk-container-id-3 div.sk-parallel-item:only-child::after {width: 0;}#sk-container-id-3 div.sk-dashed-wrapped {border: 1px dashed gray;margin: 0 0.4em 0.5em 0.4em;box-sizing: border-box;padding-bottom: 0.4em;background-color: white;}#sk-container-id-3 div.sk-label label {font-family: monospace;font-weight: bold;display: inline-block;line-height: 1.2em;}#sk-container-id-3 div.sk-label-container {text-align: center;}#sk-container-id-3 div.sk-container {/* jupyter's `normalize.less` sets `[hidden] { display: none; }` but bootstrap.min.css set `[hidden] { display: none !important; }` so we also need the `!important` here to be able to override the default hidden behavior on the sphinx rendered scikit-learn.org. See: https://github.com/scikit-learn/scikit-learn/issues/21755 */display: inline-block !important;position: relative;}#sk-container-id-3 div.sk-text-repr-fallback {display: none;}</style><div id=\"sk-container-id-3\" class=\"sk-top-container\"><div class=\"sk-text-repr-fallback\"><pre>SVC(kernel=&#x27;linear&#x27;)</pre><b>In a Jupyter environment, please rerun this cell to show the HTML representation or trust the notebook. <br />On GitHub, the HTML representation is unable to render, please try loading this page with nbviewer.org.</b></div><div class=\"sk-container\" hidden><div class=\"sk-item\"><div class=\"sk-estimator sk-toggleable\"><input class=\"sk-toggleable__control sk-hidden--visually\" id=\"sk-estimator-id-3\" type=\"checkbox\" checked><label for=\"sk-estimator-id-3\" class=\"sk-toggleable__label sk-toggleable__label-arrow\">SVC</label><div class=\"sk-toggleable__content\"><pre>SVC(kernel=&#x27;linear&#x27;)</pre></div></div></div></div></div>"
      ],
      "text/plain": [
       "SVC(kernel='linear')"
      ]
     },
     "execution_count": 45,
     "metadata": {},
     "output_type": "execute_result"
    }
   ],
   "source": [
    "import pandas as pd\n",
    "from sklearn.model_selection import train_test_split\n",
    "from sklearn.preprocessing import LabelEncoder, StandardScaler\n",
    "from sklearn.svm import SVC\n",
    "from sklearn.metrics import accuracy_score, classification_report\n",
    "\n",
    "# Load the dataset\n",
    "  # Replace with your file path\n",
    "data = pd.read_csv('Cleaned_SVM.csv')\n",
    "\n",
    "# Encoding categorical variables\n",
    "label_encoder = LabelEncoder()\n",
    "data['team_encoded'] = label_encoder.fit_transform(data['team'])\n",
    "data['team_opp_encoded'] = label_encoder.transform(data['team_opp'])\n",
    "\n",
    "# Selecting the specified features\n",
    "selected_features = data[['team_encoded', 'team_opp_encoded', 'season', 'fg%', '3p%', 'ft%', \n",
    "                          'orb', 'drb', 'orb%', 'drb%', 'ft%_max', 'fg%_max', '3p%_max', \n",
    "                          'fg%_opp', '3p%_opp', 'ft%_opp', 'orb_opp', 'trb_opp', 'orb%_opp', \n",
    "                          'drb%_opp', 'ft%_max_opp', 'fg%_max_opp', '3p%_max_opp']]\n",
    "\n",
    "# Scaling features\n",
    "scaler = StandardScaler()\n",
    "selected_features_scaled = scaler.fit_transform(selected_features)\n",
    "\n",
    "# Splitting the dataset into training and testing sets\n",
    "X_train, X_test, y_train, y_test = train_test_split(selected_features_scaled, data['won'], test_size=0.2, random_state=42)\n",
    "\n",
    "# Training the SVM model with a linear kernel\n",
    "svm_model = SVC(kernel='linear')\n",
    "svm_model.fit(X_train, y_train)\n"
   ]
  },
  {
   "cell_type": "code",
   "execution_count": 46,
   "id": "7380616a",
   "metadata": {},
   "outputs": [
    {
     "name": "stdout",
     "output_type": "stream",
     "text": [
      "Accuracy: 0.8672292545710267\n",
      "Classification Report:\n",
      "              precision    recall  f1-score   support\n",
      "\n",
      "       False       0.86      0.87      0.87      1749\n",
      "        True       0.87      0.86      0.87      1806\n",
      "\n",
      "    accuracy                           0.87      3555\n",
      "   macro avg       0.87      0.87      0.87      3555\n",
      "weighted avg       0.87      0.87      0.87      3555\n",
      "\n"
     ]
    }
   ],
   "source": [
    "# Evaluating the model\n",
    "y_pred = svm_model.predict(X_test)\n",
    "accuracy = accuracy_score(y_test, y_pred)\n",
    "classification_report_result = classification_report(y_test, y_pred)\n",
    "\n",
    "print(f\"Accuracy: {accuracy}\")\n",
    "print(\"Classification Report:\")\n",
    "print(classification_report_result)\n"
   ]
  },
  {
   "cell_type": "code",
   "execution_count": 72,
   "id": "96543df5",
   "metadata": {},
   "outputs": [
    {
     "name": "stdout",
     "output_type": "stream",
     "text": [
      "Predicted winner for the 2022 season between MIA and GSW: GSW\n"
     ]
    },
    {
     "name": "stderr",
     "output_type": "stream",
     "text": [
      "/var/folders/35/3hw9ds4j4xv060bywk0frfdw0000gn/T/ipykernel_43020/2140859008.py:10: FutureWarning: Dropping of nuisance columns in DataFrame reductions (with 'numeric_only=None') is deprecated; in a future version this will raise TypeError.  Select only valid columns before calling the reduction.\n",
      "  mean_values_recent_season = recent_season_data.mean().to_dict()\n"
     ]
    }
   ],
   "source": [
    "def predict_winner_recent_season(team1, team2, model, label_encoder, scaler, data):\n",
    "    # Encode the team names\n",
    "    team1_encoded = label_encoder.transform([team1])[0]\n",
    "    team2_encoded = label_encoder.transform([team2])[0]\n",
    "\n",
    "    # Filtering data for the most recent season (2022)\n",
    "    recent_season_data = data[data['season'] == 2022]\n",
    "\n",
    "    # Create a feature vector using mean values from the most recent season\n",
    "    mean_values_recent_season = recent_season_data.mean().to_dict()\n",
    "    feature_vector = pd.DataFrame([mean_values_recent_season])\n",
    "    feature_vector['team_encoded'] = team1_encoded\n",
    "    feature_vector['team_opp_encoded'] = team2_encoded\n",
    "\n",
    "    # Ensure correct order of columns as used in model training\n",
    "    feature_vector = feature_vector[selected_features.columns]\n",
    "\n",
    "    # Scale the feature vector\n",
    "    feature_vector_scaled = scaler.transform(feature_vector)\n",
    "\n",
    "    # Predict outcome\n",
    "    prediction = model.predict(feature_vector_scaled)[0]\n",
    "    return team1 if prediction else team2\n",
    "\n",
    "# Example prediction using the most recent season\n",
    "team1 = 'MIA'  # Replace with an actual team name from your dataset\n",
    "team2 = 'GSW'  # Replace with another actual team name from your dataset\n",
    "winner = predict_winner_recent_season(team1, team2, svm_model, label_encoder, scaler, data)\n",
    "print(f\"Predicted winner for the 2022 season between {team1} and {team2}: {winner}\")\n"
   ]
  },
  {
   "cell_type": "code",
   "execution_count": 74,
   "id": "6c581d7d",
   "metadata": {},
   "outputs": [
    {
     "name": "stdout",
     "output_type": "stream",
     "text": [
      "Kernel: linear\n",
      "Accuracy: 0.8672292545710267\n",
      "Classification Report:\n",
      "              precision    recall  f1-score   support\n",
      "\n",
      "       False       0.86      0.87      0.87      1749\n",
      "        True       0.87      0.86      0.87      1806\n",
      "\n",
      "    accuracy                           0.87      3555\n",
      "   macro avg       0.87      0.87      0.87      3555\n",
      "weighted avg       0.87      0.87      0.87      3555\n",
      "\n",
      "--------------------------------------------------\n",
      "Kernel: rbf\n",
      "Accuracy: 0.8655414908579465\n",
      "Classification Report:\n",
      "              precision    recall  f1-score   support\n",
      "\n",
      "       False       0.86      0.87      0.86      1749\n",
      "        True       0.88      0.86      0.87      1806\n",
      "\n",
      "    accuracy                           0.87      3555\n",
      "   macro avg       0.87      0.87      0.87      3555\n",
      "weighted avg       0.87      0.87      0.87      3555\n",
      "\n",
      "--------------------------------------------------\n",
      "Kernel: poly\n",
      "Accuracy: 0.8582278481012658\n",
      "Classification Report:\n",
      "              precision    recall  f1-score   support\n",
      "\n",
      "       False       0.85      0.87      0.86      1749\n",
      "        True       0.87      0.85      0.86      1806\n",
      "\n",
      "    accuracy                           0.86      3555\n",
      "   macro avg       0.86      0.86      0.86      3555\n",
      "weighted avg       0.86      0.86      0.86      3555\n",
      "\n",
      "--------------------------------------------------\n",
      "   Kernel  Accuracy  Precision (False)  Precision (True)  Recall (False)  \\\n",
      "0  linear  0.867229           0.848739          0.867797        0.866209   \n",
      "1     rbf  0.865541           0.848739          0.867797        0.866209   \n",
      "2    poly  0.858228           0.848739          0.867797        0.866209   \n",
      "\n",
      "   Recall (True)  F1-Score (False)  F1-Score (True)  \n",
      "0       0.850498          0.857385          0.85906  \n",
      "1       0.850498          0.857385          0.85906  \n",
      "2       0.850498          0.857385          0.85906  \n"
     ]
    }
   ],
   "source": [
    "# Training and evaluating SVM models with different kernels\n",
    "kernels = ['linear', 'rbf', 'poly']\n",
    "accuracies = {}\n",
    "classification_reports = {}\n",
    "\n",
    "for kernel in kernels:\n",
    "    # Training the SVM classifier with the specified kernel\n",
    "    svm_model = SVC(kernel=kernel)\n",
    "    svm_model.fit(X_train, y_train)\n",
    "\n",
    "    # Evaluating the model\n",
    "    y_pred = svm_model.predict(X_test)\n",
    "    accuracies[kernel] = accuracy_score(y_test, y_pred)\n",
    "    classification_reports[kernel] = classification_report(y_test, y_pred)\n",
    "\n",
    "    print(f\"Kernel: {kernel}\")\n",
    "    print(f\"Accuracy: {accuracies[kernel]}\")\n",
    "    print(\"Classification Report:\")\n",
    "    print(classification_reports[kernel])\n",
    "    print(\"-\" * 50)\n",
    "\n",
    "# Creating a comparison table for accuracies and classification metrics\n",
    "comparison_factors = {\n",
    "    \"Kernel\": [],\n",
    "    \"Accuracy\": [],\n",
    "    \"Precision (False)\": [],\n",
    "    \"Precision (True)\": [],\n",
    "    \"Recall (False)\": [],\n",
    "    \"Recall (True)\": [],\n",
    "    \"F1-Score (False)\": [],\n",
    "    \"F1-Score (True)\": []\n",
    "}\n",
    "\n",
    "for kernel, report in classification_reports.items():\n",
    "    report_dict = classification_report(y_test, y_pred, output_dict=True)\n",
    "    comparison_factors[\"Kernel\"].append(kernel)\n",
    "    comparison_factors[\"Accuracy\"].append(accuracies[kernel])\n",
    "    comparison_factors[\"Precision (False)\"].append(report_dict['False']['precision'])\n",
    "    comparison_factors[\"Precision (True)\"].append(report_dict['True']['precision'])\n",
    "    comparison_factors[\"Recall (False)\"].append(report_dict['False']['recall'])\n",
    "    comparison_factors[\"Recall (True)\"].append(report_dict['True']['recall'])\n",
    "    comparison_factors[\"F1-Score (False)\"].append(report_dict['False']['f1-score'])\n",
    "    comparison_factors[\"F1-Score (True)\"].append(report_dict['True']['f1-score'])\n",
    "\n",
    "# Converting to DataFrame for better visualization\n",
    "comparison_df = pd.DataFrame(comparison_factors)\n",
    "print(comparison_df)"
   ]
  },
  {
   "cell_type": "code",
   "execution_count": 77,
   "id": "197c3180",
   "metadata": {},
   "outputs": [
    {
     "data": {
      "image/png": "[encoded data removed]",
      "text/plain": [
       "<Figure size 1800x600 with 6 Axes>"
      ]
     },
     "metadata": {},
     "output_type": "display_data"
    }
   ],
   "source": [
    "from sklearn.metrics import confusion_matrix\n",
    "import pandas as pd\n",
    "from sklearn.model_selection import train_test_split\n",
    "from sklearn.preprocessing import LabelEncoder, StandardScaler\n",
    "from sklearn.svm import SVC\n",
    "from sklearn.metrics import confusion_matrix\n",
    "import matplotlib.pyplot as plt\n",
    "import seaborn as sns\n",
    "kernels = ['linear', 'rbf', 'poly']\n",
    "\n",
    "# Plotting the confusion matrices for each kernel\n",
    "fig, axes = plt.subplots(1, len(kernels), figsize=(18, 6))\n",
    "fig.suptitle('Confusion Matrices for Different Kernels')\n",
    "\n",
    "for i, kernel in enumerate(kernels):\n",
    "    # Training the SVM classifier with the specified kernel\n",
    "    svm_model = SVC(kernel=kernel)\n",
    "    svm_model.fit(X_train, y_train)\n",
    "\n",
    "    # Predicting on the test set\n",
    "    y_pred = svm_model.predict(X_test)\n",
    "\n",
    "    # Computing the confusion matrix\n",
    "    cm = confusion_matrix(y_test, y_pred)\n",
    "    sns.heatmap(cm, annot=True, fmt='g', ax=axes[i], cmap='Blues')\n",
    "    axes[i].set_title(f'Kernel: {kernel}')\n",
    "    axes[i].set_xlabel('Predicted labels')\n",
    "    axes[i].set_ylabel('True labels')\n",
    "\n",
    "plt.tight_layout(rect=[0, 0.03, 1, 0.95])\n",
    "plt.show()"
   ]
  },
  {
   "cell_type": "code",
   "execution_count": null,
   "id": "96f89599",
   "metadata": {},
   "outputs": [],
   "source": []
  },
  {
   "cell_type": "code",
   "execution_count": null,
   "id": "ad64cf82",
   "metadata": {},
   "outputs": [],
   "source": [
    "def predict_winner_recent_season(team1, team2, model, label_encoder, scaler, data):\n",
    "    # Encode the team names\n",
    "    team1_encoded = label_encoder.transform([team1])[0]\n",
    "    team2_encoded = label_encoder.transform([team2])[0]\n",
    "\n",
    "    # Filtering data for the most recent season (2022)\n",
    "    recent_season_data = data[data['season'] == 2022]\n",
    "    home = ['team_encoded','fg%','3p%','ft%','orb','drb','orb%','drb%','ft%_max','fg%_max','3p%_max']\n",
    "    opp = ['team_opp_encoded','fg%_opp','3p%_opp','ft%_opp','orb_opp','trb_opp','orb%_opp','drb%_opp','ft%_max_opp','fg%_max_opp','3p%_max_opp']\n",
    "    \n",
    "    x = data[data['team_encoded'] == team1_encoded]\n",
    "    y = data[data['team_opp_encoded'] == team2_encoded]\n",
    "    \n",
    "    x_mean = x.mean().to_dict()\n",
    "    y_mean = y.mean().to_dict()\n",
    "    \n",
    "    # Create a feature vector using mean values from the most recent season\n",
    "    mean_values_recent_season = recent_season_data.mean().to_dict()\n",
    "    feature_vector = pd.DataFrame([mean_values_recent_season])\n",
    "    feature_vector['team_encoded'] = team1_encoded\n",
    "    feature_vector['team_opp_encoded'] = team2_encoded\n",
    "\n",
    "    # Ensure correct order of columns as used in model training\n",
    "    feature_vector = feature_vector[selected_features.columns]\n",
    "\n",
    "    # Scale the feature vector\n",
    "    feature_vector_scaled = scaler.transform(feature_vector)\n",
    "\n",
    "    # Predict outcome\n",
    "    prediction = model.predict(feature_vector_scaled)[0]\n",
    "    return team1 if prediction else team2\n",
    "\n",
    "# Example prediction using the most recent season\n",
    "team1 = 'MIA'  # Replace with an actual team name from your dataset\n",
    "team2 = 'GSW'  # Replace with another actual team name from your dataset\n",
    "winner = predict_winner_recent_season(team1, team2, svm_model, label_encoder, scaler, data)\n",
    "print(f\"Predicted winner for the 2022 season between {team1} and {team2}: {winner}\")\n"
   ]
  },
  {
   "cell_type": "code",
   "execution_count": 153,
   "id": "164a3aa7",
   "metadata": {},
   "outputs": [
    {
     "data": {
      "text/plain": [
       "15"
      ]
     },
     "execution_count": 153,
     "metadata": {},
     "output_type": "execute_result"
    }
   ],
   "source": [
    "mapping[team1]"
   ]
  },
  {
   "cell_type": "code",
   "execution_count": 154,
   "id": "bcb09834",
   "metadata": {},
   "outputs": [],
   "source": [
    "def predict_2(team1, team2, model, label_encoder, scaler, data):    \n",
    "    mapping = {'ATL': 0, 'BOS': 1, 'BRK': 2, 'CHI': 3, 'CHO': 4, 'CLE': 5, 'DAL': 6, 'DEN': 7, 'DET': 8, 'GSW': 9, 'HOU': 10, 'IND': 11, 'LAC': 12, 'LAL': 13, 'MEM': 14, 'MIA': 15, 'MIL': 16, 'MIN': 17, 'NOP': 18, 'NYK': 19, 'OKC': 20, 'ORL': 21, 'PHI': 22, 'PHO': 23, 'POR': 24, 'SAC': 25, 'SAS': 26, 'TOR': 27, 'UTA': 28, 'WAS': 29}\n",
    "\n",
    "    team1_encoded = mapping[team1]\n",
    "    team2_encoded = mapping[team2]\n",
    "    \n",
    "    recent_season_data = data[data['season'] == 2022]\n",
    "\n",
    "    select_cols = ['team_encoded', 'team_opp_encoded', 'season', 'fg%', '3p%', 'ft%', \n",
    "                              'orb', 'drb', 'orb%', 'drb%', 'ft%_max', 'fg%_max', '3p%_max', \n",
    "                              'fg%_opp', '3p%_opp', 'ft%_opp', 'orb_opp', 'trb_opp', 'orb%_opp', \n",
    "                              'drb%_opp', 'ft%_max_opp', 'fg%_max_opp', '3p%_max_opp']\n",
    "    home = [\"season\",'team_encoded','fg%','3p%','ft%','orb','drb','orb%','drb%','ft%_max','fg%_max','3p%_max']\n",
    "    opp = ['team_opp_encoded','fg%_opp','3p%_opp','ft%_opp','orb_opp','trb_opp','orb%_opp','drb%_opp','ft%_max_opp','fg%_max_opp','3p%_max_opp']\n",
    "\n",
    "    x = recent_season_data[recent_season_data['team_encoded'] == team1_encoded]\n",
    "    y = recent_season_data[recent_season_data['team_opp_encoded'] == team2_encoded]\n",
    "\n",
    "    x_mean = x.mean().to_dict()\n",
    "    y_mean = y.mean().to_dict()\n",
    "    temp = (pd.concat([pd.DataFrame([x_mean])[home], pd.DataFrame([y_mean])[opp]],axis = 1))\n",
    "    temp = temp[select_cols]\n",
    "    feature_vector_scaled = scaler.transform(temp)\n",
    "\n",
    "    # Predict outcome\n",
    "    prediction = model.predict(feature_vector_scaled)[0]\n",
    "    return team1 if prediction else team2"
   ]
  },
  {
   "cell_type": "code",
   "execution_count": null,
   "id": "e79baed1",
   "metadata": {},
   "outputs": [],
   "source": []
  },
  {
   "cell_type": "code",
   "execution_count": 156,
   "id": "2e4a1a22",
   "metadata": {},
   "outputs": [
    {
     "name": "stdout",
     "output_type": "stream",
     "text": [
      "Predicted winner for the 2022 season between MIA and GSW: GSW\n"
     ]
    },
    {
     "name": "stderr",
     "output_type": "stream",
     "text": [
      "/var/folders/35/3hw9ds4j4xv060bywk0frfdw0000gn/T/ipykernel_43020/1699504559.py:19: FutureWarning: Dropping of nuisance columns in DataFrame reductions (with 'numeric_only=None') is deprecated; in a future version this will raise TypeError.  Select only valid columns before calling the reduction.\n",
      "  x_mean = x.mean().to_dict()\n",
      "/var/folders/35/3hw9ds4j4xv060bywk0frfdw0000gn/T/ipykernel_43020/1699504559.py:20: FutureWarning: Dropping of nuisance columns in DataFrame reductions (with 'numeric_only=None') is deprecated; in a future version this will raise TypeError.  Select only valid columns before calling the reduction.\n",
      "  y_mean = y.mean().to_dict()\n"
     ]
    }
   ],
   "source": [
    "team1 = 'MIA'  # Replace with an actual team name from your dataset\n",
    "team2 = 'GSW'  # Replace with another actual team name from your dataset\n",
    "winner = predict_2(team1, team2, svm_model, label_encoder, scaler, data)\n",
    "print(f\"Predicted winner for the 2022 season between {team1} and {team2}: {winner}\")"
   ]
  },
  {
   "cell_type": "code",
   "execution_count": 147,
   "id": "b48cee79",
   "metadata": {},
   "outputs": [
    {
     "data": {
      "text/html": [
       "<style>#sk-container-id-6 {color: black;}#sk-container-id-6 pre{padding: 0;}#sk-container-id-6 div.sk-toggleable {background-color: white;}#sk-container-id-6 label.sk-toggleable__label {cursor: pointer;display: block;width: 100%;margin-bottom: 0;padding: 0.3em;box-sizing: border-box;text-align: center;}#sk-container-id-6 label.sk-toggleable__label-arrow:before {content: \"▸\";float: left;margin-right: 0.25em;color: #696969;}#sk-container-id-6 label.sk-toggleable__label-arrow:hover:before {color: black;}#sk-container-id-6 div.sk-estimator:hover label.sk-toggleable__label-arrow:before {color: black;}#sk-container-id-6 div.sk-toggleable__content {max-height: 0;max-width: 0;overflow: hidden;text-align: left;background-color: #f0f8ff;}#sk-container-id-6 div.sk-toggleable__content pre {margin: 0.2em;color: black;border-radius: 0.25em;background-color: #f0f8ff;}#sk-container-id-6 input.sk-toggleable__control:checked~div.sk-toggleable__content {max-height: 200px;max-width: 100%;overflow: auto;}#sk-container-id-6 input.sk-toggleable__control:checked~label.sk-toggleable__label-arrow:before {content: \"▾\";}#sk-container-id-6 div.sk-estimator input.sk-toggleable__control:checked~label.sk-toggleable__label {background-color: #d4ebff;}#sk-container-id-6 div.sk-label input.sk-toggleable__control:checked~label.sk-toggleable__label {background-color: #d4ebff;}#sk-container-id-6 input.sk-hidden--visually {border: 0;clip: rect(1px 1px 1px 1px);clip: rect(1px, 1px, 1px, 1px);height: 1px;margin: -1px;overflow: hidden;padding: 0;position: absolute;width: 1px;}#sk-container-id-6 div.sk-estimator {font-family: monospace;background-color: #f0f8ff;border: 1px dotted black;border-radius: 0.25em;box-sizing: border-box;margin-bottom: 0.5em;}#sk-container-id-6 div.sk-estimator:hover {background-color: #d4ebff;}#sk-container-id-6 div.sk-parallel-item::after {content: \"\";width: 100%;border-bottom: 1px solid gray;flex-grow: 1;}#sk-container-id-6 div.sk-label:hover label.sk-toggleable__label {background-color: #d4ebff;}#sk-container-id-6 div.sk-serial::before {content: \"\";position: absolute;border-left: 1px solid gray;box-sizing: border-box;top: 0;bottom: 0;left: 50%;z-index: 0;}#sk-container-id-6 div.sk-serial {display: flex;flex-direction: column;align-items: center;background-color: white;padding-right: 0.2em;padding-left: 0.2em;position: relative;}#sk-container-id-6 div.sk-item {position: relative;z-index: 1;}#sk-container-id-6 div.sk-parallel {display: flex;align-items: stretch;justify-content: center;background-color: white;position: relative;}#sk-container-id-6 div.sk-item::before, #sk-container-id-6 div.sk-parallel-item::before {content: \"\";position: absolute;border-left: 1px solid gray;box-sizing: border-box;top: 0;bottom: 0;left: 50%;z-index: -1;}#sk-container-id-6 div.sk-parallel-item {display: flex;flex-direction: column;z-index: 1;position: relative;background-color: white;}#sk-container-id-6 div.sk-parallel-item:first-child::after {align-self: flex-end;width: 50%;}#sk-container-id-6 div.sk-parallel-item:last-child::after {align-self: flex-start;width: 50%;}#sk-container-id-6 div.sk-parallel-item:only-child::after {width: 0;}#sk-container-id-6 div.sk-dashed-wrapped {border: 1px dashed gray;margin: 0 0.4em 0.5em 0.4em;box-sizing: border-box;padding-bottom: 0.4em;background-color: white;}#sk-container-id-6 div.sk-label label {font-family: monospace;font-weight: bold;display: inline-block;line-height: 1.2em;}#sk-container-id-6 div.sk-label-container {text-align: center;}#sk-container-id-6 div.sk-container {/* jupyter's `normalize.less` sets `[hidden] { display: none; }` but bootstrap.min.css set `[hidden] { display: none !important; }` so we also need the `!important` here to be able to override the default hidden behavior on the sphinx rendered scikit-learn.org. See: https://github.com/scikit-learn/scikit-learn/issues/21755 */display: inline-block !important;position: relative;}#sk-container-id-6 div.sk-text-repr-fallback {display: none;}</style><div id=\"sk-container-id-6\" class=\"sk-top-container\"><div class=\"sk-text-repr-fallback\"><pre>SVC(kernel=&#x27;poly&#x27;)</pre><b>In a Jupyter environment, please rerun this cell to show the HTML representation or trust the notebook. <br />On GitHub, the HTML representation is unable to render, please try loading this page with nbviewer.org.</b></div><div class=\"sk-container\" hidden><div class=\"sk-item\"><div class=\"sk-estimator sk-toggleable\"><input class=\"sk-toggleable__control sk-hidden--visually\" id=\"sk-estimator-id-6\" type=\"checkbox\" checked><label for=\"sk-estimator-id-6\" class=\"sk-toggleable__label sk-toggleable__label-arrow\">SVC</label><div class=\"sk-toggleable__content\"><pre>SVC(kernel=&#x27;poly&#x27;)</pre></div></div></div></div></div>"
      ],
      "text/plain": [
       "SVC(kernel='poly')"
      ]
     },
     "execution_count": 147,
     "metadata": {},
     "output_type": "execute_result"
    }
   ],
   "source": [
    "svm_model"
   ]
  },
  {
   "cell_type": "code",
   "execution_count": 146,
   "id": "388453a6",
   "metadata": {},
   "outputs": [
    {
     "data": {
      "text/html": [
       "<style>#sk-container-id-5 {color: black;}#sk-container-id-5 pre{padding: 0;}#sk-container-id-5 div.sk-toggleable {background-color: white;}#sk-container-id-5 label.sk-toggleable__label {cursor: pointer;display: block;width: 100%;margin-bottom: 0;padding: 0.3em;box-sizing: border-box;text-align: center;}#sk-container-id-5 label.sk-toggleable__label-arrow:before {content: \"▸\";float: left;margin-right: 0.25em;color: #696969;}#sk-container-id-5 label.sk-toggleable__label-arrow:hover:before {color: black;}#sk-container-id-5 div.sk-estimator:hover label.sk-toggleable__label-arrow:before {color: black;}#sk-container-id-5 div.sk-toggleable__content {max-height: 0;max-width: 0;overflow: hidden;text-align: left;background-color: #f0f8ff;}#sk-container-id-5 div.sk-toggleable__content pre {margin: 0.2em;color: black;border-radius: 0.25em;background-color: #f0f8ff;}#sk-container-id-5 input.sk-toggleable__control:checked~div.sk-toggleable__content {max-height: 200px;max-width: 100%;overflow: auto;}#sk-container-id-5 input.sk-toggleable__control:checked~label.sk-toggleable__label-arrow:before {content: \"▾\";}#sk-container-id-5 div.sk-estimator input.sk-toggleable__control:checked~label.sk-toggleable__label {background-color: #d4ebff;}#sk-container-id-5 div.sk-label input.sk-toggleable__control:checked~label.sk-toggleable__label {background-color: #d4ebff;}#sk-container-id-5 input.sk-hidden--visually {border: 0;clip: rect(1px 1px 1px 1px);clip: rect(1px, 1px, 1px, 1px);height: 1px;margin: -1px;overflow: hidden;padding: 0;position: absolute;width: 1px;}#sk-container-id-5 div.sk-estimator {font-family: monospace;background-color: #f0f8ff;border: 1px dotted black;border-radius: 0.25em;box-sizing: border-box;margin-bottom: 0.5em;}#sk-container-id-5 div.sk-estimator:hover {background-color: #d4ebff;}#sk-container-id-5 div.sk-parallel-item::after {content: \"\";width: 100%;border-bottom: 1px solid gray;flex-grow: 1;}#sk-container-id-5 div.sk-label:hover label.sk-toggleable__label {background-color: #d4ebff;}#sk-container-id-5 div.sk-serial::before {content: \"\";position: absolute;border-left: 1px solid gray;box-sizing: border-box;top: 0;bottom: 0;left: 50%;z-index: 0;}#sk-container-id-5 div.sk-serial {display: flex;flex-direction: column;align-items: center;background-color: white;padding-right: 0.2em;padding-left: 0.2em;position: relative;}#sk-container-id-5 div.sk-item {position: relative;z-index: 1;}#sk-container-id-5 div.sk-parallel {display: flex;align-items: stretch;justify-content: center;background-color: white;position: relative;}#sk-container-id-5 div.sk-item::before, #sk-container-id-5 div.sk-parallel-item::before {content: \"\";position: absolute;border-left: 1px solid gray;box-sizing: border-box;top: 0;bottom: 0;left: 50%;z-index: -1;}#sk-container-id-5 div.sk-parallel-item {display: flex;flex-direction: column;z-index: 1;position: relative;background-color: white;}#sk-container-id-5 div.sk-parallel-item:first-child::after {align-self: flex-end;width: 50%;}#sk-container-id-5 div.sk-parallel-item:last-child::after {align-self: flex-start;width: 50%;}#sk-container-id-5 div.sk-parallel-item:only-child::after {width: 0;}#sk-container-id-5 div.sk-dashed-wrapped {border: 1px dashed gray;margin: 0 0.4em 0.5em 0.4em;box-sizing: border-box;padding-bottom: 0.4em;background-color: white;}#sk-container-id-5 div.sk-label label {font-family: monospace;font-weight: bold;display: inline-block;line-height: 1.2em;}#sk-container-id-5 div.sk-label-container {text-align: center;}#sk-container-id-5 div.sk-container {/* jupyter's `normalize.less` sets `[hidden] { display: none; }` but bootstrap.min.css set `[hidden] { display: none !important; }` so we also need the `!important` here to be able to override the default hidden behavior on the sphinx rendered scikit-learn.org. See: https://github.com/scikit-learn/scikit-learn/issues/21755 */display: inline-block !important;position: relative;}#sk-container-id-5 div.sk-text-repr-fallback {display: none;}</style><div id=\"sk-container-id-5\" class=\"sk-top-container\"><div class=\"sk-text-repr-fallback\"><pre>StandardScaler()</pre><b>In a Jupyter environment, please rerun this cell to show the HTML representation or trust the notebook. <br />On GitHub, the HTML representation is unable to render, please try loading this page with nbviewer.org.</b></div><div class=\"sk-container\" hidden><div class=\"sk-item\"><div class=\"sk-estimator sk-toggleable\"><input class=\"sk-toggleable__control sk-hidden--visually\" id=\"sk-estimator-id-5\" type=\"checkbox\" checked><label for=\"sk-estimator-id-5\" class=\"sk-toggleable__label sk-toggleable__label-arrow\">StandardScaler</label><div class=\"sk-toggleable__content\"><pre>StandardScaler()</pre></div></div></div></div></div>"
      ],
      "text/plain": [
       "StandardScaler()"
      ]
     },
     "execution_count": 146,
     "metadata": {},
     "output_type": "execute_result"
    }
   ],
   "source": [
    "scaler"
   ]
  },
  {
   "cell_type": "code",
   "execution_count": 163,
   "id": "84a70e92",
   "metadata": {},
   "outputs": [],
   "source": [
    "import pickle\n",
    "scaler_file = \"scaler.sav\"\n",
    "svm_file = \"model.sav\"\n",
    "pickle.dump(scaler, open(scaler_file,\"wb\"))\n",
    "pickle.dump(svm_model, open(svm_file,\"wb\"))"
   ]
  },
  {
   "cell_type": "code",
   "execution_count": 166,
   "id": "4a111d95",
   "metadata": {},
   "outputs": [],
   "source": [
    "recent_season_data = data[data['season'] == 2022]\n",
    "recent_season_data.to_csv(\"data.csv\", index = False)"
   ]
  },
  {
   "cell_type": "code",
   "execution_count": 164,
   "id": "ea1187e7",
   "metadata": {},
   "outputs": [
    {
     "name": "stdout",
     "output_type": "stream",
     "text": [
      "Predicted winner for the 2022 season between MIA and GSW: GSW\n"
     ]
    },
    {
     "name": "stderr",
     "output_type": "stream",
     "text": [
      "/var/folders/35/3hw9ds4j4xv060bywk0frfdw0000gn/T/ipykernel_43020/1699504559.py:19: FutureWarning: Dropping of nuisance columns in DataFrame reductions (with 'numeric_only=None') is deprecated; in a future version this will raise TypeError.  Select only valid columns before calling the reduction.\n",
      "  x_mean = x.mean().to_dict()\n",
      "/var/folders/35/3hw9ds4j4xv060bywk0frfdw0000gn/T/ipykernel_43020/1699504559.py:20: FutureWarning: Dropping of nuisance columns in DataFrame reductions (with 'numeric_only=None') is deprecated; in a future version this will raise TypeError.  Select only valid columns before calling the reduction.\n",
      "  y_mean = y.mean().to_dict()\n"
     ]
    }
   ],
   "source": [
    "model_2 = pickle.load(open(svm_file,\"rb\"))\n",
    "\n",
    "\n",
    "team1 = 'MIA'  # Replace with an actual team name from your dataset\n",
    "team2 = 'GSW'  # Replace with another actual team name from your dataset\n",
    "winner = predict_2(team1, team2, model_2, label_encoder, scaler, data)\n",
    "print(f\"Predicted winner for the 2022 season between {team1} and {team2}: {winner}\")         \n",
    "                      "
   ]
  }
 ],
 "metadata": {
  "kernelspec": {
   "display_name": "Python 3 (ipykernel)",
   "language": "python",
   "name": "python3"
  },
  "language_info": {
   "codemirror_mode": {
    "name": "ipython",
    "version": 3
   },
   "file_extension": ".py",
   "mimetype": "text/x-python",
   "name": "python",
   "nbconvert_exporter": "python",
   "pygments_lexer": "ipython3",
   "version": "3.9.13"
  }
 },
 "nbformat": 4,
 "nbformat_minor": 5
}
